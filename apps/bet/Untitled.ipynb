{
 "cells": [
  {
   "cell_type": "code",
   "execution_count": 35,
   "metadata": {
    "collapsed": false
   },
   "outputs": [
    {
     "data": {
      "image/png": "[encoded data removed]",
      "text/plain": [
       "<matplotlib.figure.Figure at 0x7ff2e0e764d0>"
      ]
     },
     "metadata": {},
     "output_type": "display_data"
    }
   ],
   "source": [
    "import matplotlib.pyplot as plt\n",
    "import numpy as np\n",
    "import matplotlib\n",
    "%matplotlib inline\n",
    "\n",
    "font = {'weight': 'bold'}\n",
    "matplotlib.rc('font', **font)\n",
    "\n",
    "song = Song.objects.get(name=\"Hotline Bling\")\n",
    "positions = Position.objects.filter(song=song).order_by('-week__date').values_list('position', flat=True)\n",
    "\n",
    "x = np.arange(1, 11)\n",
    "y = [1, 25, 50, 75, 100]\n",
    "xs = [str(i) for  i in x]\n",
    "ys = [str(i) for i in y]\n",
    "plt.rcParams['lines.linewidth'] = 2\n",
    "fig, ax = plt.subplots(linewidth=2000000)\n",
    "plt.xticks(x,xs)\n",
    "plt.yticks(y, ys)\n",
    "\n",
    "\n",
    "ax.set_xlim([0.9, 10.1])\n",
    "ax.set_ylim([1, 100])\n",
    "color = 'red'\n",
    "ax.spines['left'].set_color(color)\n",
    "ax.spines['bottom'].set_color(color)\n",
    "ax.spines['top'].set_visible(False)\n",
    "ax.spines['right'].set_visible(False)\n",
    "ax.tick_params(axis='x', colors=color)\n",
    "ax.xaxis.set_ticks_position('bottom')\n",
    "ax.yaxis.set_ticks_position('left')\n",
    "ax.tick_params(axis='y', colors=color)\n",
    "\n",
    "t = plt.xlabel('WEEKS', fontsize=14, color=color)\n",
    "t = plt.ylabel('POSITIONS', fontsize=14, color=color)\n",
    "ax.margins(.95)\n",
    "for x, y in enumerate(positions):\n",
    "    ax.annotate('{}'.format(y), xy=(x, y), xytext=(x+0.3, y-3))\n",
    "\n",
    "\n",
    "plt.gca().invert_yaxis()\n",
    "plt.gca().invert_xaxis()\n",
    "ax.plot(positions, marker='o', color='r')\n",
    "plt.savefig('demo.png',  transparent=True)"
   ]
  }
 ],
 "metadata": {
  "kernelspec": {
   "display_name": "Django Shell-Plus",
   "language": "python",
   "name": "django_extensions"
  },
  "language_info": {
   "codemirror_mode": {
    "name": "ipython",
    "version": 2
   },
   "file_extension": ".py",
   "mimetype": "text/x-python",
   "name": "python",
   "nbconvert_exporter": "python",
   "pygments_lexer": "ipython2",
   "version": "2.7.6"
  }
 },
 "nbformat": 4,
 "nbformat_minor": 0
}
